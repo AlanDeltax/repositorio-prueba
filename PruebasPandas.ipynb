{
 "cells": [
  {
   "cell_type": "code",
   "execution_count": 46,
   "id": "e53cde7d",
   "metadata": {},
   "outputs": [],
   "source": [
    "import pandas as pd\n",
    "import numpy as np\n",
    "import random"
   ]
  },
  {
   "cell_type": "code",
   "execution_count": 8,
   "id": "984bfe83",
   "metadata": {},
   "outputs": [],
   "source": [
    "naranjas = pd.Series([1,2,3,4,5,6])"
   ]
  },
  {
   "cell_type": "code",
   "execution_count": 9,
   "id": "090a7c58",
   "metadata": {},
   "outputs": [
    {
     "name": "stdout",
     "output_type": "stream",
     "text": [
      "0    1\n",
      "1    2\n",
      "2    3\n",
      "3    4\n",
      "4    5\n",
      "5    6\n",
      "dtype: int64\n"
     ]
    }
   ],
   "source": [
    "print(naranjas)"
   ]
  },
  {
   "cell_type": "code",
   "execution_count": 10,
   "id": "4f1cdc6c",
   "metadata": {},
   "outputs": [],
   "source": [
    "colores = pd.Series(['Azul', 'Rojo', 'Verde', 'Morado'])"
   ]
  },
  {
   "cell_type": "code",
   "execution_count": 11,
   "id": "bdaa9015",
   "metadata": {},
   "outputs": [
    {
     "name": "stdout",
     "output_type": "stream",
     "text": [
      "0      Azul\n",
      "1      Rojo\n",
      "2     Verde\n",
      "3    Morado\n",
      "dtype: object\n"
     ]
    }
   ],
   "source": [
    "print(colores)"
   ]
  },
  {
   "cell_type": "code",
   "execution_count": 31,
   "id": "4db65f1c",
   "metadata": {},
   "outputs": [],
   "source": [
    "materias = pd.Series({'Matematicas':30,'Español':50,'Control':100,'Control 2':65})"
   ]
  },
  {
   "cell_type": "code",
   "execution_count": 13,
   "id": "de3d81b4",
   "metadata": {},
   "outputs": [
    {
     "name": "stdout",
     "output_type": "stream",
     "text": [
      "Matematicas     60\n",
      "Español         80\n",
      "Control        100\n",
      "dtype: int64\n"
     ]
    }
   ],
   "source": [
    "print(materias)"
   ]
  },
  {
   "cell_type": "code",
   "execution_count": 16,
   "id": "246b5aac",
   "metadata": {},
   "outputs": [
    {
     "data": {
      "text/plain": [
       "Español    80\n",
       "dtype: int64"
      ]
     },
     "execution_count": 16,
     "metadata": {},
     "output_type": "execute_result"
    }
   ],
   "source": [
    "materias[1:2]"
   ]
  },
  {
   "cell_type": "code",
   "execution_count": 21,
   "id": "4277fc1e",
   "metadata": {},
   "outputs": [
    {
     "data": {
      "text/plain": [
       "Control    100\n",
       "dtype: int64"
      ]
     },
     "execution_count": 21,
     "metadata": {},
     "output_type": "execute_result"
    }
   ],
   "source": [
    "materias[['Control']]"
   ]
  },
  {
   "cell_type": "code",
   "execution_count": 23,
   "id": "ee124fdc",
   "metadata": {},
   "outputs": [],
   "source": [
    "numeros = pd.Series([1,2,3,4,5,6,7,8,9])"
   ]
  },
  {
   "cell_type": "code",
   "execution_count": 25,
   "id": "66a878f9",
   "metadata": {},
   "outputs": [
    {
     "data": {
      "text/plain": [
       "0     5\n",
       "1    10\n",
       "2    15\n",
       "3    20\n",
       "4    25\n",
       "5    30\n",
       "6    35\n",
       "7    40\n",
       "8    45\n",
       "dtype: int64"
      ]
     },
     "execution_count": 25,
     "metadata": {},
     "output_type": "execute_result"
    }
   ],
   "source": [
    "numeros * 5"
   ]
  },
  {
   "cell_type": "code",
   "execution_count": 28,
   "id": "242aae71",
   "metadata": {},
   "outputs": [
    {
     "data": {
      "text/plain": [
       "np.int64(45)"
      ]
     },
     "execution_count": 28,
     "metadata": {},
     "output_type": "execute_result"
    }
   ],
   "source": [
    "numeros.sum()"
   ]
  },
  {
   "cell_type": "code",
   "execution_count": 27,
   "id": "90698002",
   "metadata": {},
   "outputs": [
    {
     "data": {
      "text/plain": [
       "np.int64(9)"
      ]
     },
     "execution_count": 27,
     "metadata": {},
     "output_type": "execute_result"
    }
   ],
   "source": [
    "numeros.max()"
   ]
  },
  {
   "cell_type": "code",
   "execution_count": 29,
   "id": "574c5557",
   "metadata": {},
   "outputs": [
    {
     "data": {
      "text/plain": [
       "np.float64(2.7386127875258306)"
      ]
     },
     "execution_count": 29,
     "metadata": {},
     "output_type": "execute_result"
    }
   ],
   "source": [
    "numeros.std()"
   ]
  },
  {
   "cell_type": "code",
   "execution_count": 30,
   "id": "b62ee881",
   "metadata": {},
   "outputs": [
    {
     "name": "stdout",
     "output_type": "stream",
     "text": [
      "Español     80\n",
      "Control    100\n",
      "dtype: int64\n"
     ]
    }
   ],
   "source": [
    "print(materias[materias > 70])"
   ]
  },
  {
   "cell_type": "code",
   "execution_count": 33,
   "id": "1cc655f7",
   "metadata": {},
   "outputs": [
    {
     "name": "stdout",
     "output_type": "stream",
     "text": [
      "Matematicas     30\n",
      "Español         50\n",
      "Control 2       65\n",
      "Control        100\n",
      "dtype: int64\n"
     ]
    }
   ],
   "source": [
    "print(materias.sort_values())"
   ]
  },
  {
   "cell_type": "code",
   "execution_count": 35,
   "id": "f09dd3ab",
   "metadata": {},
   "outputs": [
    {
     "name": "stdout",
     "output_type": "stream",
     "text": [
      "Control        100\n",
      "Control 2       65\n",
      "Español         50\n",
      "Matematicas     30\n",
      "dtype: int64\n"
     ]
    }
   ],
   "source": [
    "print(materias.sort_index(ascending=True))"
   ]
  },
  {
   "cell_type": "code",
   "execution_count": 38,
   "id": "e9f4fee8",
   "metadata": {},
   "outputs": [
    {
     "name": "stdout",
     "output_type": "stream",
     "text": [
      "Nintendo     Nintendo Switch\n",
      "Microsoft      Xbox Series S\n",
      "Sony           Playstation 5\n",
      "dtype: object\n"
     ]
    }
   ],
   "source": [
    "data_list = ['Nintendo Switch','Xbox Series S', 'Playstation 5']\n",
    "index_list = ['Nintendo', 'Microsoft', 'Sony']\n",
    "Consolas = pd.Series(data=data_list, index=index_list)\n",
    "print(Consolas)"
   ]
  },
  {
   "cell_type": "code",
   "execution_count": 39,
   "id": "85cc0633",
   "metadata": {},
   "outputs": [],
   "source": [
    "data = {'NOMBRE':['Alan','Fer','Santi','Juan'],'CARRERA':['Robotica','Robotica','Robotica','Matematicas']}"
   ]
  },
  {
   "cell_type": "code",
   "execution_count": null,
   "id": "3c55ff37",
   "metadata": {},
   "outputs": [
    {
     "name": "stdout",
     "output_type": "stream",
     "text": [
      "  NOMBRE      CARRERA\n",
      "0   Alan     Robotica\n",
      "1    Fer     Robotica\n",
      "2  Santi     Robotica\n",
      "3   Juan  Matematicas\n"
     ]
    }
   ],
   "source": [
    "equipo = pd.DataFrame(data)\n",
    "print(equipo)"
   ]
  },
  {
   "cell_type": "code",
   "execution_count": 44,
   "id": "bb64e2cb",
   "metadata": {},
   "outputs": [
    {
     "name": "stdout",
     "output_type": "stream",
     "text": [
      "  NOMBRE NUMERO\n",
      "0   Alan     27\n",
      "1    Fer     83\n",
      "2  Santi     15\n",
      "3   Juan    159\n"
     ]
    }
   ],
   "source": [
    "df = pd.DataFrame([['Alan','27'],['Fer','83'],['Santi','15'],['Juan','159']], columns=['NOMBRE','NUMERO'])\n",
    "print(df)"
   ]
  },
  {
   "cell_type": "code",
   "execution_count": 62,
   "id": "2065b794",
   "metadata": {},
   "outputs": [
    {
     "name": "stdout",
     "output_type": "stream",
     "text": [
      "          a         b         c\n",
      "0 -1.410907  1.393154  0.994363\n",
      "1  0.382839 -1.272907  0.201585\n",
      "2  0.677995  0.881078 -0.138298\n",
      "3 -0.754468  1.020015 -0.009031\n"
     ]
    }
   ],
   "source": [
    "randomDF = pd.DataFrame(np.random.randn(4,3), columns=['a','b','c'])\n",
    "print(randomDF)"
   ]
  }
 ],
 "metadata": {
  "kernelspec": {
   "display_name": "EntornoVirtual",
   "language": "python",
   "name": "python3"
  },
  "language_info": {
   "codemirror_mode": {
    "name": "ipython",
    "version": 3
   },
   "file_extension": ".py",
   "mimetype": "text/x-python",
   "name": "python",
   "nbconvert_exporter": "python",
   "pygments_lexer": "ipython3",
   "version": "3.13.3"
  }
 },
 "nbformat": 4,
 "nbformat_minor": 5
}
